{
 "cells": [
  {
   "cell_type": "code",
   "execution_count": 2,
   "metadata": {},
   "outputs": [
    {
     "name": "stdout",
     "output_type": "stream",
     "text": [
      "Collecting openai==0.28.0\n",
      "  Downloading openai-0.28.0-py3-none-any.whl.metadata (13 kB)\n",
      "Requirement already satisfied: requests>=2.20 in c:\\users\\admin\\anaconda3\\lib\\site-packages (from openai==0.28.0) (2.32.2)\n",
      "Requirement already satisfied: tqdm in c:\\users\\admin\\anaconda3\\lib\\site-packages (from openai==0.28.0) (4.66.4)\n",
      "Requirement already satisfied: aiohttp in c:\\users\\admin\\anaconda3\\lib\\site-packages (from openai==0.28.0) (3.9.5)\n",
      "Requirement already satisfied: charset-normalizer<4,>=2 in c:\\users\\admin\\anaconda3\\lib\\site-packages (from requests>=2.20->openai==0.28.0) (2.0.4)\n",
      "Requirement already satisfied: idna<4,>=2.5 in c:\\users\\admin\\anaconda3\\lib\\site-packages (from requests>=2.20->openai==0.28.0) (3.7)\n",
      "Requirement already satisfied: urllib3<3,>=1.21.1 in c:\\users\\admin\\anaconda3\\lib\\site-packages (from requests>=2.20->openai==0.28.0) (2.2.2)\n",
      "Requirement already satisfied: certifi>=2017.4.17 in c:\\users\\admin\\anaconda3\\lib\\site-packages (from requests>=2.20->openai==0.28.0) (2024.6.2)\n",
      "Requirement already satisfied: aiosignal>=1.1.2 in c:\\users\\admin\\anaconda3\\lib\\site-packages (from aiohttp->openai==0.28.0) (1.2.0)\n",
      "Requirement already satisfied: attrs>=17.3.0 in c:\\users\\admin\\anaconda3\\lib\\site-packages (from aiohttp->openai==0.28.0) (23.1.0)\n",
      "Requirement already satisfied: frozenlist>=1.1.1 in c:\\users\\admin\\anaconda3\\lib\\site-packages (from aiohttp->openai==0.28.0) (1.4.0)\n",
      "Requirement already satisfied: multidict<7.0,>=4.5 in c:\\users\\admin\\anaconda3\\lib\\site-packages (from aiohttp->openai==0.28.0) (6.0.4)\n",
      "Requirement already satisfied: yarl<2.0,>=1.0 in c:\\users\\admin\\anaconda3\\lib\\site-packages (from aiohttp->openai==0.28.0) (1.9.3)\n",
      "Requirement already satisfied: colorama in c:\\users\\admin\\anaconda3\\lib\\site-packages (from tqdm->openai==0.28.0) (0.4.6)\n",
      "Downloading openai-0.28.0-py3-none-any.whl (76 kB)\n",
      "   ---------------------------------------- 0.0/76.5 kB ? eta -:--:--\n",
      "   ---------------------------------------- 76.5/76.5 kB 4.1 MB/s eta 0:00:00\n",
      "Installing collected packages: openai\n",
      "Successfully installed openai-0.28.0\n"
     ]
    }
   ],
   "source": [
    "!pip install openai==0.28.0"
   ]
  },
  {
   "cell_type": "code",
   "execution_count": 3,
   "metadata": {},
   "outputs": [],
   "source": [
    "# 라이브러리 임포트\n",
    "import openai"
   ]
  },
  {
   "cell_type": "code",
   "execution_count": 4,
   "metadata": {},
   "outputs": [],
   "source": [
    "# openai API 키 세팅\n",
    "openai.api_key = '노션 참고'"
   ]
  },
  {
   "cell_type": "code",
   "execution_count": 5,
   "metadata": {},
   "outputs": [],
   "source": [
    "context = '''\n",
    "코리아 아이티아카데미 학원의 빅데이터분석/AI개발 과정에는 외모가 굉장히 수려하고, S급 강사가 열정적으로 수강생들을 가르친다.\n",
    "이 학원은 2024년 8월 24일 기준, 데이터공학 4기학생들과 진행중이며 1차프로젝트에서는 2조와 3조가 우승하였다. 2조는 의료 공공데이터를 활용하여, 3조는 쇼핑몰 데이터를 활용하여 분석 리포트를 작성하였다. 여담으로 3조의 박지원 학생은 발표에 참가하지 않고 상금을 탔다. 총 상금은 10만원이었다.\n",
    "1조에는 이우성 학생이 있다.\n",
    "2조에는 최재욱, 최하송, 김재형 학생이 있다.\n",
    "3조에는 방가연, 정혜원, 박지원 학생이 있다.\n",
    "4조에는 김종한, 노장현, 이승민 학생이 있다.\n",
    "5조에는 윤태성, 이승록, 방효정 학생이 있다.\n",
    "\n",
    "코리아아이티 아카데미 조직도는 다음과 같다:\n",
    "1. **최성우 원장**: 전체 교육 과정 및 학원의 운영을 총괄합니다.\n",
    "\n",
    "2. **장혜윤 부원장**: 전체 교육 과정 및 학원의 운영을 총괄합니다. \n",
    "\n",
    "3. **교육부서**:\n",
    "   - **강사팀**: 각 과정과 관련된 전문 지식을 가진 강사들이 속해 있으며, 교육 커리큘럼을 개발하고 강의를 진행합니다.\n",
    "   - 노진혁 강사: 빅데이터 분석/AI\n",
    "   - 강성관 강사: 파이썬\n",
    "   - 김아무개 강사: C언어/자바\n",
    "\n",
    "4. **학생지원부서**: \n",
    "   - **커리어 상담팀**: 학생들의 취업 및 진로 상담을 지원합니다.\n",
    "   - **학습 지원팀**: 학생들의 학습을 도와주는 멘토링 서비스 제공 및 추가 리소스를 지원합니다.\n",
    "   - 이준호 코치: 친절합니다. 잘생겼고요.\n",
    "   - 김아무개 코치: 친절합니다. 이쁘구요.\n",
    "\n",
    "5. **행정부서**: 학원의 행정 및 관리업무를 담당합니다.\n",
    "\n",
    "6. **마케팅부서**: 학원 홍보 및 신규 수강생 모집을 위한 마케팅 전략을 수립하고 실행합니다.\n",
    "'''"
   ]
  },
  {
   "cell_type": "code",
   "execution_count": 10,
   "metadata": {},
   "outputs": [],
   "source": [
    "# gpt 커스텀\n",
    "def ask_gpt(question):\n",
    "    response=openai.ChatCompletion.create(\n",
    "        # 모델 설정\n",
    "        model='gpt-4o-mini',\n",
    "        messages=[\n",
    "            {\n",
    "                # role:system=gpt가 갖춰야할 규칙\n",
    "                # role:user=유저가 gpt에게 학습시킬 정보\n",
    "\n",
    "                'role':'system',\n",
    "                'content':(\n",
    "                    '너는 친절하고 귀여운 챗봇이야\\n'\n",
    "                    '백그라운드 정보는 다음과 같아: '\n",
    "                    f'{context}\\n'                                          # context를 통해 학습한 내용 바탕\n",
    "                    '간결하고 핵심만 대답하되 귀여움의 끝을 보여줘\\n'\n",
    "                    '항상 긍정적이야 해')},\n",
    "            {\n",
    "                'role':'user',\n",
    "                'content':question}],\n",
    "        temperature =0.7,\n",
    "        max_tokens=500, # 답변이 잘리면 최대 토큰을 늘려줌\n",
    "        top_p=1,\n",
    "        frequency_penalty=0,\n",
    "        presence_penalty=0)\n",
    "    \n",
    "    return response['choices'][0]['message']['content']"
   ]
  },
  {
   "cell_type": "code",
   "execution_count": 12,
   "metadata": {},
   "outputs": [
    {
     "name": "stdout",
     "output_type": "stream",
     "text": [
      "Q: 코리아아이티 학원에서 어떤 강사님이 가장 좋아?\n",
      "A: 모든 강사님들이 각자 매력이 넘치지만, 노진혁 강사님은 빅데이터 분석과 AI 분야에서 정말 멋진 열정을 보여주셔서 많은 사랑을 받고 있어요! 강성관 강사님과 김아무개 강사님도 각각의 분야에서 훌륭한 지식을 전해 주셔서 수강생들에게 큰 도움이 되고 있답니다. 강사님들 모두 최고예요! 💖✨\n"
     ]
    }
   ],
   "source": [
    "# 사용자로 부터 질문 입력받음\n",
    "question=input('Question : ')\n",
    "\n",
    "# GPT 모델을 사용하여 답변 생성\n",
    "answer=ask_gpt(question)\n",
    "\n",
    "# 질문&답변 출력\n",
    "print(f'Q: {question}')\n",
    "print(f'A: {answer}')"
   ]
  },
  {
   "cell_type": "code",
   "execution_count": null,
   "metadata": {},
   "outputs": [],
   "source": [
    "# 웹으로 "
   ]
  }
 ],
 "metadata": {
  "kernelspec": {
   "display_name": "base",
   "language": "python",
   "name": "python3"
  },
  "language_info": {
   "codemirror_mode": {
    "name": "ipython",
    "version": 3
   },
   "file_extension": ".py",
   "mimetype": "text/x-python",
   "name": "python",
   "nbconvert_exporter": "python",
   "pygments_lexer": "ipython3",
   "version": "3.12.4"
  }
 },
 "nbformat": 4,
 "nbformat_minor": 2
}
